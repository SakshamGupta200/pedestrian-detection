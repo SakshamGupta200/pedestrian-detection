{
 "cells": [
  {
   "cell_type": "markdown",
   "id": "e346ec55-3cec-4076-8aef-05cae3ed53ad",
   "metadata": {},
   "source": [
    "## Pedestrian detection in image"
   ]
  },
  {
   "cell_type": "code",
   "execution_count": 2,
   "id": "fb6ba92c-e2d8-4607-845a-8808da10b2c7",
   "metadata": {},
   "outputs": [],
   "source": [
    "import cv2\n",
    "import imutils\n",
    "\n",
    "# Initializing the HOG person\n",
    "# detector\n",
    "hog = cv2.HOGDescriptor()\n",
    "hog.setSVMDetector(cv2.HOGDescriptor_getDefaultPeopleDetector())\n",
    "\n",
    "# Reading the Image\n",
    "image = cv2.imread('input.png')\n",
    "\n",
    "# Resizing the Image\n",
    "image = imutils.resize(image,\n",
    "\t\t\t\t\twidth=min(400, image.shape[1]))\n",
    "\n",
    "# Detecting all the regions in the \n",
    "# Image that has a pedestrians inside it\n",
    "(regions, _) = hog.detectMultiScale(image, \n",
    "\t\t\t\t\t\t\t\t\twinStride=(4, 4),\n",
    "\t\t\t\t\t\t\t\t\tpadding=(4, 4),\n",
    "\t\t\t\t\t\t\t\t\tscale=1.05)\n",
    "\n",
    "# Drawing the regions in the Image\n",
    "for (x, y, w, h) in regions:\n",
    "\tcv2.rectangle(image, (x, y), \n",
    "\t\t\t\t(x + w, y + h), \n",
    "\t\t\t\t(0, 0, 255), 2)\n",
    "\n",
    "# Showing the output Image\n",
    "cv2.imshow(\"Image\", image)\n",
    "cv2.waitKey(0)\n",
    "\n",
    "cv2.destroyAllWindows()\n"
   ]
  },
  {
   "cell_type": "markdown",
   "id": "aa947b34-2feb-42e7-a144-2fab656fa915",
   "metadata": {},
   "source": [
    "## Pedestrian detectiion in video"
   ]
  },
  {
   "cell_type": "code",
   "execution_count": 4,
   "id": "0aa0afa4-b2b2-4e3a-831d-0b4c6d683f7a",
   "metadata": {},
   "outputs": [],
   "source": [
    "import cv2\n",
    "import imutils\n",
    "\n",
    "# Initializing the HOG person\n",
    "# detector\n",
    "hog = cv2.HOGDescriptor()\n",
    "hog.setSVMDetector(cv2.HOGDescriptor_getDefaultPeopleDetector())\n",
    "\n",
    "cap = cv2.VideoCapture('vid.mp4')\n",
    "\n",
    "while cap.isOpened():\n",
    "\t# Reading the video stream\n",
    "\tret, image = cap.read()\n",
    "\tif ret:\n",
    "\t\timage = imutils.resize(image, \n",
    "\t\t\t\t\t\t\twidth=min(400, image.shape[1]))\n",
    "\n",
    "\t\t# Detecting all the regions \n",
    "\t\t# in the Image that has a \n",
    "\t\t# pedestrians inside it\n",
    "\t\t(regions, _) = hog.detectMultiScale(image,\n",
    "\t\t\t\t\t\t\t\t\t\t\twinStride=(4, 4),\n",
    "\t\t\t\t\t\t\t\t\t\t\tpadding=(4, 4),\n",
    "\t\t\t\t\t\t\t\t\t\t\tscale=1.05)\n",
    "\n",
    "\t\t# Drawing the regions in the \n",
    "\t\t# Image\n",
    "\t\tfor (x, y, w, h) in regions:\n",
    "\t\t\tcv2.rectangle(image, (x, y),\n",
    "\t\t\t\t\t\t(x + w, y + h), \n",
    "\t\t\t\t\t\t(0, 0, 255), 2)\n",
    "\n",
    "\t\t# Showing the output Image\n",
    "\t\tcv2.imshow(\"Image\", image)\n",
    "\t\tif cv2.waitKey(25) & 0xFF == ord('q'):\n",
    "\t\t\tbreak\n",
    "\telse:\n",
    "\t\tbreak\n",
    "\n",
    "cap.release()\n",
    "cv2.destroyAllWindows()\n"
   ]
  },
  {
   "cell_type": "code",
   "execution_count": null,
   "id": "02a93677-e2cd-4838-afe5-ac2a4ae831c1",
   "metadata": {},
   "outputs": [],
   "source": []
  }
 ],
 "metadata": {
  "kernelspec": {
   "display_name": "Python 3 (ipykernel)",
   "language": "python",
   "name": "python3"
  },
  "language_info": {
   "codemirror_mode": {
    "name": "ipython",
    "version": 3
   },
   "file_extension": ".py",
   "mimetype": "text/x-python",
   "name": "python",
   "nbconvert_exporter": "python",
   "pygments_lexer": "ipython3",
   "version": "3.11.7"
  }
 },
 "nbformat": 4,
 "nbformat_minor": 5
}
